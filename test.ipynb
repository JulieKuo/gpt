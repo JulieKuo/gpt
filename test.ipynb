{
 "cells": [
  {
   "attachments": {},
   "cell_type": "markdown",
   "metadata": {},
   "source": [
    "## Ask ChatGPT"
   ]
  },
  {
   "cell_type": "code",
   "execution_count": 1,
   "metadata": {},
   "outputs": [],
   "source": [
    "api_key = \"\""
   ]
  },
  {
   "cell_type": "code",
   "execution_count": 2,
   "metadata": {},
   "outputs": [],
   "source": [
    "prompt = '''\n",
    "你好\n",
    "'''"
   ]
  },
  {
   "cell_type": "code",
   "execution_count": 3,
   "metadata": {},
   "outputs": [
    {
     "name": "stdout",
     "output_type": "stream",
     "text": [
      "你好！\n"
     ]
    }
   ],
   "source": [
    "import openai\n",
    "\n",
    "openai.api_key = api_key\n",
    "\n",
    "response = openai.Completion.create(\n",
    "    model = \"text-davinci-003\",\n",
    "    prompt = prompt,\n",
    "    temperature = 0.2,\n",
    "    max_tokens = 3000,\n",
    "    )\n",
    "\n",
    "response1 = response['choices'][0]['text'].lstrip(\"\\n\")\n",
    "response1 = response1.replace(\"```python\", \"\").replace(\"`\", \"\").replace(\"程式碼：\", \"\").replace(\"code:\", \"\").strip(\"\\n\").strip()\n",
    "print(response1)"
   ]
  },
  {
   "cell_type": "markdown",
   "metadata": {},
   "source": [
    "## Test GPT Model"
   ]
  },
  {
   "cell_type": "markdown",
   "metadata": {},
   "source": [
    "1. 建立資料夾{project}_{project_id}， ex: test_p00001\n",
    "2. 資料夾底下放入input.json，及想設定的統計方法\n",
    "3. 開啟terminal\n",
    "4. cd gpt\n",
    "5. python run.py test p00001\n",
    "6. python檔結果在 .\\test_p00001\\final\\resources\\t_YYYYMMDDhhmmss.py\n",
    "7. 模型執行結果在 .\\test_p00001\\result.json"
   ]
  },
  {
   "attachments": {},
   "cell_type": "markdown",
   "metadata": {},
   "source": [
    "## Test server"
   ]
  },
  {
   "cell_type": "markdown",
   "metadata": {},
   "source": [
    "1. 開啟terminal\n",
    "2. cd .\\data\\test_p00001\\final\n",
    "3. python run.py"
   ]
  },
  {
   "cell_type": "code",
   "execution_count": 4,
   "metadata": {},
   "outputs": [],
   "source": [
    "# 每種combination底下的哪些時間段\n",
    "combs = {\n",
    "    \"R89_no7\": [\n",
    "        [\n",
    "            \"2023-02-13 00:00:00\",\n",
    "            \"2023-02-14 23:59:59\"\n",
    "        ]\n",
    "    ],\n",
    "    \"R89_no8\": [\n",
    "        [\n",
    "            \"2023-02-13 00:00:00\",\n",
    "            \"2023-02-14 23:59:59\"\n",
    "        ],\n",
    "        [\n",
    "            \"2023-03-01 00:00:00\",\n",
    "            \"2023-03-02 10:59:59\"\n",
    "        ],\n",
    "        [\n",
    "            \"2023-03-08 00:00:00\",\n",
    "            \"2023-03-09 23:38:00\"\n",
    "        ]\n",
    "    ]\n",
    "}\n",
    "\n",
    "# 每種combination底下的所有時間段\n",
    "# combs = [\"R89_no7\", \"R89_no8\"]"
   ]
  },
  {
   "cell_type": "markdown",
   "metadata": {},
   "source": [
    "### Method 1 - 直接返回dict給網頁呈現"
   ]
  },
  {
   "cell_type": "code",
   "execution_count": 5,
   "metadata": {},
   "outputs": [
    {
     "name": "stdout",
     "output_type": "stream",
     "text": [
      "count of sample: 12\n"
     ]
    }
   ],
   "source": [
    "import requests\n",
    "\n",
    "url = 'http://localhost:5000/api/custom/report/t_20230511000000'\n",
    "\n",
    "body = {\n",
    "    \"start_date\": \"2023-02-13 00:00:00\",\n",
    "    \"end_date\": \"2023-04-13 23:59:59\",\n",
    "    \"combs\": combs,\n",
    "    \"only_ng\": True,\n",
    "    }\n",
    "\n",
    "headers = {\n",
    "    \"Content-Type\": \"application/json\"\n",
    "    }\n",
    "\n",
    "response = requests.post(url, headers = headers, json = body)\n",
    "response = response.json()\n",
    "data = response[\"data\"]\n",
    "print(f'count of sample: {response[\"count\"]}')"
   ]
  },
  {
   "cell_type": "code",
   "execution_count": null,
   "metadata": {},
   "outputs": [],
   "source": [
    "response"
   ]
  },
  {
   "cell_type": "markdown",
   "metadata": {},
   "source": [
    "### Method 2 - 依照file_path的路徑儲存csv在local端"
   ]
  },
  {
   "cell_type": "code",
   "execution_count": 7,
   "metadata": {},
   "outputs": [
    {
     "name": "stdout",
     "output_type": "stream",
     "text": [
      "count of sample: 12\n"
     ]
    }
   ],
   "source": [
    "import requests\n",
    "\n",
    "url = 'http://localhost:5000/api/custom/report/t_20230511000000'\n",
    "\n",
    "body = {\n",
    "    \"start_date\": \"2023-02-13 00:00:00\",\n",
    "    \"end_date\": \"2023-04-13 23:59:59\",\n",
    "    \"combs\": combs,\n",
    "    \"only_ng\": True,\n",
    "    \"file_path\": r\"C:\\Users\\tzuli\\Documents\\python\\gpt\\test.csv\", # TODO: 沒給返回dict，有給返回儲存位置。\n",
    "    }\n",
    "\n",
    "headers = {\n",
    "    \"Content-Type\": \"application/json\"\n",
    "    }\n",
    "\n",
    "response = requests.post(url, headers = headers, json = body)\n",
    "response = response.json()\n",
    "data = response[\"data\"]\n",
    "print(f'count of sample: {response[\"count\"]}')"
   ]
  },
  {
   "cell_type": "code",
   "execution_count": 8,
   "metadata": {},
   "outputs": [
    {
     "data": {
      "text/plain": [
       "{'count': 12,\n",
       " 'data': 'C:\\\\Users\\\\tzuli\\\\Documents\\\\python\\\\gpt\\\\test.csv',\n",
       " 'type': 0}"
      ]
     },
     "execution_count": 8,
     "metadata": {},
     "output_type": "execute_result"
    }
   ],
   "source": [
    "response"
   ]
  }
 ],
 "metadata": {
  "kernelspec": {
   "display_name": ".venv",
   "language": "python",
   "name": "python3"
  },
  "language_info": {
   "codemirror_mode": {
    "name": "ipython",
    "version": 3
   },
   "file_extension": ".py",
   "mimetype": "text/x-python",
   "name": "python",
   "nbconvert_exporter": "python",
   "pygments_lexer": "ipython3",
   "version": "3.8.10"
  },
  "orig_nbformat": 4,
  "vscode": {
   "interpreter": {
    "hash": "6a07fcf0145f94b3f971c13d061528107de20ab7b779375f96dab9bbac6a85db"
   }
  }
 },
 "nbformat": 4,
 "nbformat_minor": 2
}
